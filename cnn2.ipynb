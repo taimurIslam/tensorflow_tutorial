{
 "cells": [
  {
   "cell_type": "code",
   "execution_count": 1,
   "metadata": {},
   "outputs": [],
   "source": [
    "import tensorflow as tf\n",
    "import matplotlib.pyplot as plt\n",
    "from tensorflow.examples.tutorials.mnist import input_data\n",
    "%matplotlib inline"
   ]
  },
  {
   "cell_type": "code",
   "execution_count": 2,
   "metadata": {},
   "outputs": [
    {
     "name": "stdout",
     "output_type": "stream",
     "text": [
      "WARNING:tensorflow:From <ipython-input-2-1a516c502833>:1: read_data_sets (from tensorflow.contrib.learn.python.learn.datasets.mnist) is deprecated and will be removed in a future version.\n",
      "Instructions for updating:\n",
      "Please use alternatives such as official/mnist/dataset.py from tensorflow/models.\n",
      "WARNING:tensorflow:From C:\\Users\\ASUS PC\\Anaconda3\\lib\\site-packages\\tensorflow\\contrib\\learn\\python\\learn\\datasets\\mnist.py:260: maybe_download (from tensorflow.contrib.learn.python.learn.datasets.base) is deprecated and will be removed in a future version.\n",
      "Instructions for updating:\n",
      "Please write your own downloading logic.\n",
      "WARNING:tensorflow:From C:\\Users\\ASUS PC\\Anaconda3\\lib\\site-packages\\tensorflow\\contrib\\learn\\python\\learn\\datasets\\mnist.py:262: extract_images (from tensorflow.contrib.learn.python.learn.datasets.mnist) is deprecated and will be removed in a future version.\n",
      "Instructions for updating:\n",
      "Please use tf.data to implement this functionality.\n",
      "Extracting MNIST_data/train-images-idx3-ubyte.gz\n",
      "WARNING:tensorflow:From C:\\Users\\ASUS PC\\Anaconda3\\lib\\site-packages\\tensorflow\\contrib\\learn\\python\\learn\\datasets\\mnist.py:267: extract_labels (from tensorflow.contrib.learn.python.learn.datasets.mnist) is deprecated and will be removed in a future version.\n",
      "Instructions for updating:\n",
      "Please use tf.data to implement this functionality.\n",
      "Extracting MNIST_data/train-labels-idx1-ubyte.gz\n",
      "WARNING:tensorflow:From C:\\Users\\ASUS PC\\Anaconda3\\lib\\site-packages\\tensorflow\\contrib\\learn\\python\\learn\\datasets\\mnist.py:110: dense_to_one_hot (from tensorflow.contrib.learn.python.learn.datasets.mnist) is deprecated and will be removed in a future version.\n",
      "Instructions for updating:\n",
      "Please use tf.one_hot on tensors.\n",
      "Extracting MNIST_data/t10k-images-idx3-ubyte.gz\n",
      "Extracting MNIST_data/t10k-labels-idx1-ubyte.gz\n",
      "WARNING:tensorflow:From C:\\Users\\ASUS PC\\Anaconda3\\lib\\site-packages\\tensorflow\\contrib\\learn\\python\\learn\\datasets\\mnist.py:290: DataSet.__init__ (from tensorflow.contrib.learn.python.learn.datasets.mnist) is deprecated and will be removed in a future version.\n",
      "Instructions for updating:\n",
      "Please use alternatives such as official/mnist/dataset.py from tensorflow/models.\n"
     ]
    }
   ],
   "source": [
    "mnist = input_data.read_data_sets(\"MNIST_data/\", one_hot = True)"
   ]
  },
  {
   "cell_type": "code",
   "execution_count": 3,
   "metadata": {},
   "outputs": [],
   "source": [
    "def init_weights(shape):\n",
    "    init_random_dist = tf.truncated_normal(shape, stddev =0.1)\n",
    "    return tf.Variable(init_random_dist)"
   ]
  },
  {
   "cell_type": "code",
   "execution_count": 4,
   "metadata": {},
   "outputs": [],
   "source": [
    "def init_bias(shape):\n",
    "    init_bias_vals = tf.constant(0.1, shape = shape)\n",
    "    return tf.Variable(init_bias_vals)"
   ]
  },
  {
   "cell_type": "code",
   "execution_count": 5,
   "metadata": {},
   "outputs": [],
   "source": [
    "def conv2d(x, w):\n",
    "    #x--> [batch,H,M,Channels]\n",
    "    #w-->[filter H, filter W, Channel IN, Channel OUT]\n",
    "    \n",
    "    return tf.nn.conv2d(x,w, strides=[1,1,1,1], padding='SAME')"
   ]
  },
  {
   "cell_type": "code",
   "execution_count": 6,
   "metadata": {},
   "outputs": [],
   "source": [
    "def max_pool_2by2(x):\n",
    "    return tf.nn.max_pool(x, ksize=[1,2,2,1], strides=[1,2,2,1], padding='SAME')"
   ]
  },
  {
   "cell_type": "code",
   "execution_count": 7,
   "metadata": {},
   "outputs": [],
   "source": [
    "def convolutional_layer(input_x, shape):\n",
    "    w = init_weights(shape)\n",
    "    b = init_bias([shape[3]])\n",
    "    return  tf.nn.relu(conv2d(input_x,w)+b)"
   ]
  },
  {
   "cell_type": "code",
   "execution_count": 16,
   "metadata": {},
   "outputs": [],
   "source": [
    "def normal_full_layer(input_layer, size):\n",
    "    input_size = int(input_layer.get_shape()[1])\n",
    "    w = init_weights([input_size, size])\n",
    "    b = init_bias([size])\n",
    "    return  tf.matmul(input_layer,w)+b"
   ]
  },
  {
   "cell_type": "code",
   "execution_count": 17,
   "metadata": {},
   "outputs": [],
   "source": [
    "x = tf.placeholder(tf.float32, shape=[None,784])"
   ]
  },
  {
   "cell_type": "code",
   "execution_count": 18,
   "metadata": {},
   "outputs": [],
   "source": [
    "y_true = tf.placeholder(tf.float32, shape=[None,10])"
   ]
  },
  {
   "cell_type": "code",
   "execution_count": 19,
   "metadata": {},
   "outputs": [],
   "source": [
    "x_image = tf.reshape(x, [-1,28,28,1])"
   ]
  },
  {
   "cell_type": "code",
   "execution_count": 20,
   "metadata": {},
   "outputs": [],
   "source": [
    "convo_1 = convolutional_layer(x_image, shape=[5,5,1,32])\n",
    "convo_1_polling = max_pool_2by2(convo_1)"
   ]
  },
  {
   "cell_type": "code",
   "execution_count": 21,
   "metadata": {},
   "outputs": [],
   "source": [
    "convo_2 = convolutional_layer(convo_1_polling, shape=[5,5,32,64])\n",
    "convo_2_polling = max_pool_2by2(convo_2)"
   ]
  },
  {
   "cell_type": "code",
   "execution_count": 22,
   "metadata": {},
   "outputs": [],
   "source": [
    "convo_2_flat = tf.reshape(convo_2_polling, [-1,7*7*64])\n",
    "full_layer_one = tf.nn.relu(normal_full_layer(convo_2_flat,1024))"
   ]
  },
  {
   "cell_type": "code",
   "execution_count": 23,
   "metadata": {},
   "outputs": [],
   "source": [
    "hold_prob = tf.placeholder(tf.float32)\n",
    "full_one_dropout = tf.nn.dropout(full_layer_one, keep_prob=hold_prob)"
   ]
  },
  {
   "cell_type": "code",
   "execution_count": 24,
   "metadata": {},
   "outputs": [],
   "source": [
    "y_pred = normal_full_layer(full_one_dropout,10)"
   ]
  },
  {
   "cell_type": "code",
   "execution_count": 25,
   "metadata": {},
   "outputs": [
    {
     "name": "stdout",
     "output_type": "stream",
     "text": [
      "WARNING:tensorflow:From <ipython-input-25-d363ba8a97c4>:2: softmax_cross_entropy_with_logits (from tensorflow.python.ops.nn_ops) is deprecated and will be removed in a future version.\n",
      "Instructions for updating:\n",
      "\n",
      "Future major versions of TensorFlow will allow gradients to flow\n",
      "into the labels input on backprop by default.\n",
      "\n",
      "See @{tf.nn.softmax_cross_entropy_with_logits_v2}.\n",
      "\n"
     ]
    }
   ],
   "source": [
    "cross_entropy = tf.reduce_mean(tf.nn.softmax_cross_entropy_with_logits(labels=y_true,\n",
    "                                                                      logits=y_pred))"
   ]
  },
  {
   "cell_type": "code",
   "execution_count": 28,
   "metadata": {},
   "outputs": [],
   "source": [
    "optimizer = tf.train.AdamOptimizer(learning_rate=0.001)\n",
    "train = optimizer.minimize(cross_entropy)"
   ]
  },
  {
   "cell_type": "code",
   "execution_count": 29,
   "metadata": {},
   "outputs": [],
   "source": [
    "init = tf.global_variables_initializer()"
   ]
  },
  {
   "cell_type": "code",
   "execution_count": 30,
   "metadata": {},
   "outputs": [
    {
     "name": "stdout",
     "output_type": "stream",
     "text": [
      "On Step: 0\n",
      "Accuracy:\n",
      "0.1031\n",
      "On Step: 100\n",
      "Accuracy:\n",
      "0.9433\n",
      "On Step: 200\n",
      "Accuracy:\n",
      "0.9646\n",
      "On Step: 300\n",
      "Accuracy:\n",
      "0.9699\n",
      "On Step: 400\n",
      "Accuracy:\n",
      "0.9726\n",
      "On Step: 500\n",
      "Accuracy:\n",
      "0.9775\n",
      "On Step: 600\n",
      "Accuracy:\n",
      "0.9781\n",
      "On Step: 700\n",
      "Accuracy:\n",
      "0.981\n",
      "On Step: 800\n",
      "Accuracy:\n",
      "0.9799\n",
      "On Step: 900\n",
      "Accuracy:\n",
      "0.984\n",
      "On Step: 1000\n",
      "Accuracy:\n",
      "0.9844\n",
      "On Step: 1100\n",
      "Accuracy:\n",
      "0.9843\n",
      "On Step: 1200\n",
      "Accuracy:\n",
      "0.9832\n",
      "On Step: 1300\n",
      "Accuracy:\n",
      "0.9856\n",
      "On Step: 1400\n",
      "Accuracy:\n",
      "0.9862\n",
      "On Step: 1500\n",
      "Accuracy:\n",
      "0.9855\n",
      "On Step: 1600\n",
      "Accuracy:\n",
      "0.985\n",
      "On Step: 1700\n",
      "Accuracy:\n",
      "0.9849\n",
      "On Step: 1800\n",
      "Accuracy:\n",
      "0.9876\n",
      "On Step: 1900\n",
      "Accuracy:\n",
      "0.9838\n",
      "On Step: 2000\n",
      "Accuracy:\n",
      "0.9849\n",
      "On Step: 2100\n",
      "Accuracy:\n",
      "0.9876\n",
      "On Step: 2200\n",
      "Accuracy:\n",
      "0.9886\n",
      "On Step: 2300\n",
      "Accuracy:\n",
      "0.9891\n",
      "On Step: 2400\n",
      "Accuracy:\n",
      "0.9864\n",
      "On Step: 2500\n",
      "Accuracy:\n",
      "0.9872\n",
      "On Step: 2600\n",
      "Accuracy:\n",
      "0.9851\n",
      "On Step: 2700\n",
      "Accuracy:\n",
      "0.9885\n",
      "On Step: 2800\n",
      "Accuracy:\n",
      "0.9889\n",
      "On Step: 2900\n",
      "Accuracy:\n",
      "0.9871\n",
      "On Step: 3000\n",
      "Accuracy:\n",
      "0.9888\n",
      "On Step: 3100\n",
      "Accuracy:\n",
      "0.9865\n",
      "On Step: 3200\n",
      "Accuracy:\n",
      "0.989\n",
      "On Step: 3300\n",
      "Accuracy:\n",
      "0.9902\n",
      "On Step: 3400\n",
      "Accuracy:\n",
      "0.9907\n",
      "On Step: 3500\n",
      "Accuracy:\n",
      "0.9888\n",
      "On Step: 3600\n",
      "Accuracy:\n",
      "0.9869\n",
      "On Step: 3700\n",
      "Accuracy:\n",
      "0.9901\n",
      "On Step: 3800\n",
      "Accuracy:\n",
      "0.9895\n",
      "On Step: 3900\n",
      "Accuracy:\n",
      "0.9916\n",
      "On Step: 4000\n",
      "Accuracy:\n",
      "0.9886\n",
      "On Step: 4100\n",
      "Accuracy:\n",
      "0.989\n",
      "On Step: 4200\n",
      "Accuracy:\n",
      "0.99\n",
      "On Step: 4300\n",
      "Accuracy:\n",
      "0.9888\n",
      "On Step: 4400\n",
      "Accuracy:\n",
      "0.9895\n",
      "On Step: 4500\n",
      "Accuracy:\n",
      "0.9914\n",
      "On Step: 4600\n",
      "Accuracy:\n",
      "0.9897\n",
      "On Step: 4700\n",
      "Accuracy:\n",
      "0.9905\n",
      "On Step: 4800\n",
      "Accuracy:\n",
      "0.9915\n",
      "On Step: 4900\n",
      "Accuracy:\n",
      "0.9889\n"
     ]
    }
   ],
   "source": [
    "steps = 5000\n",
    "with tf.Session() as sess:\n",
    "    sess.run(init)\n",
    "    for i in range(steps):\n",
    "        batch_x, batch_y = mnist.train.next_batch(50)\n",
    "        sess.run(train, feed_dict = {x:batch_x, y_true:batch_y, hold_prob:0.5})\n",
    "        if i%100 == 0:\n",
    "            print(\"On Step: {}\".format(i))\n",
    "            print(\"Accuracy:\")\n",
    "            matches = tf.equal(tf.argmax(y_pred,1), tf.argmax(y_true,1))\n",
    "            acc = tf.reduce_mean(tf.cast(matches, tf.float32))\n",
    "            print(sess.run(acc,feed_dict={x:mnist.test.images, y_true:mnist.test.labels, hold_prob:1.0}))"
   ]
  },
  {
   "cell_type": "code",
   "execution_count": null,
   "metadata": {},
   "outputs": [],
   "source": []
  }
 ],
 "metadata": {
  "kernelspec": {
   "display_name": "Python 3",
   "language": "python",
   "name": "python3"
  },
  "language_info": {
   "codemirror_mode": {
    "name": "ipython",
    "version": 3
   },
   "file_extension": ".py",
   "mimetype": "text/x-python",
   "name": "python",
   "nbconvert_exporter": "python",
   "pygments_lexer": "ipython3",
   "version": "3.6.4"
  }
 },
 "nbformat": 4,
 "nbformat_minor": 2
}
